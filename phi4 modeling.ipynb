{
 "cells": [
  {
   "cell_type": "markdown",
   "metadata": {},
   "source": [
    "# $\\phi_4$ model"
   ]
  },
  {
   "cell_type": "markdown",
   "metadata": {},
   "source": [
    "***"
   ]
  },
  {
   "cell_type": "markdown",
   "metadata": {},
   "source": [
    "For the Hamiltonian of the two-dimension $\\Phi^4$​ model (10 $\\times$ 10),\n",
    "$$\n",
    "\\cal{H}=\\sum_{i=1}^Nv(\\phi_i)+\\cal{H_I}\n",
    "$$\n",
    "with local and intraction terms\n",
    "$$\n",
    "\\beta v(\\phi_i)=-\\frac{b}{2}\\phi_i^2+\\frac{1}{4}\\phi_i^4,\\quad\\beta\\cal{H_I}=-\\sum_{<i,j>}\\phi_i\\phi_j.\n",
    "$$\n",
    "\n",
    "We will use Monte Carlo method to find the dependance of the order parameter $m=|\\sum_{i=1}^N\\phi_i/N|$ on $b$."
   ]
  },
  {
   "cell_type": "code",
   "execution_count": 2,
   "metadata": {
    "executionInfo": {
     "elapsed": 4,
     "status": "ok",
     "timestamp": 1640019470912,
     "user": {
      "displayName": "noshah noshah",
      "photoUrl": "https://lh3.googleusercontent.com/a-/AOh14GgkTRhrrqPN9HB2tHKYbRJgstsa7FDBTuxCC8HTBQ=s64",
      "userId": "16058168177383914094"
     },
     "user_tz": 360
    },
    "id": "nvPreEtHRnHy"
   },
   "outputs": [],
   "source": [
    "import numpy as np\n",
    "import matplotlib.pyplot as plt\n",
    "import seaborn as sns\n",
    "%config InlineBackend.figure_format='retina'"
   ]
  },
  {
   "cell_type": "code",
   "execution_count": 2,
   "metadata": {},
   "outputs": [],
   "source": [
    "plt.rcParams['text.usetex'] = True\n",
    "plt.rcParams['xtick.direction'] = 'in'\n",
    "plt.rcParams['ytick.direction'] = 'in'"
   ]
  },
  {
   "cell_type": "markdown",
   "metadata": {},
   "source": [
    "We will drive random numbers from $g(\\phi_i)=C^{-1}e^{-\\beta v(\\phi_i)}$ which will then be passed to $h(\\phi_i)=min(1,e^{-\\beta \\cal{H_I}})$."
   ]
  },
  {
   "cell_type": "code",
   "execution_count": 3,
   "metadata": {
    "executionInfo": {
     "elapsed": 118,
     "status": "ok",
     "timestamp": 1640019648684,
     "user": {
      "displayName": "noshah noshah",
      "photoUrl": "https://lh3.googleusercontent.com/a-/AOh14GgkTRhrrqPN9HB2tHKYbRJgstsa7FDBTuxCC8HTBQ=s64",
      "userId": "16058168177383914094"
     },
     "user_tz": 360
    },
    "id": "6LdnDCr9fzdc"
   },
   "outputs": [],
   "source": [
    "def rejection(b,n):\n",
    "  x1=np.random.normal(loc=0,scale=np.sqrt(-1/b),size=(n,n))\n",
    "  y=np.zeros((n,n),float)\n",
    "  for column in range(n):\n",
    "    for element in range(n):\n",
    "      x=x1[column][element]\n",
    "      h=np.exp((-1/4)*(x**4))\n",
    "      y1=np.random.uniform()\n",
    "      if y1<=h:\n",
    "        y[column][element]=x1[column][element]  \n",
    "\n",
    "  return y"
   ]
  },
  {
   "cell_type": "code",
   "execution_count": 4,
   "metadata": {
    "executionInfo": {
     "elapsed": 3,
     "status": "ok",
     "timestamp": 1640019649989,
     "user": {
      "displayName": "noshah noshah",
      "photoUrl": "https://lh3.googleusercontent.com/a-/AOh14GgkTRhrrqPN9HB2tHKYbRJgstsa7FDBTuxCC8HTBQ=s64",
      "userId": "16058168177383914094"
     },
     "user_tz": 360
    },
    "id": "5gqHsMVvyXjr"
   },
   "outputs": [],
   "source": [
    "def rejection1(b):\n",
    "  x1=np.random.normal(loc=0,scale=np.sqrt(-1/b))\n",
    "  y=0\n",
    "  \n",
    "  x=x1\n",
    "  h=np.exp((-1/4)*(x**4))\n",
    "  y1=np.random.uniform()\n",
    "  if y1<=h:\n",
    "    y=x1\n",
    "\n",
    "  return y"
   ]
  },
  {
   "cell_type": "code",
   "execution_count": 5,
   "metadata": {
    "executionInfo": {
     "elapsed": 127,
     "status": "ok",
     "timestamp": 1640019681926,
     "user": {
      "displayName": "noshah noshah",
      "photoUrl": "https://lh3.googleusercontent.com/a-/AOh14GgkTRhrrqPN9HB2tHKYbRJgstsa7FDBTuxCC8HTBQ=s64",
      "userId": "16058168177383914094"
     },
     "user_tz": 360
    },
    "id": "2mI1TTk4hScq"
   },
   "outputs": [],
   "source": [
    "def metro(config,b,n):\n",
    "    for j in range(n*n):\n",
    "      row=np.random.randint(0,n)\n",
    "      col=np.random.randint(0,n)\n",
    "      phai=config[row][col]\n",
    "      nb = config[(row+1)%n][col] + config[row][(col+1)%n] + config[(row-1)%n][col] + config[row][(col-1)%n]\n",
    "      phai_new=rejection1(b)\n",
    "      cost=-(phai_new-phai)*nb\n",
    "      y=np.random.uniform()  \n",
    "      if y<min(1,np.exp(-cost)):\n",
    "        config[row][col]=phai_new\n",
    "\n",
    "    return config      "
   ]
  },
  {
   "cell_type": "markdown",
   "metadata": {},
   "source": [
    "The system will first be thermalized for $1000$ runs and then ran for $10^4$ steps."
   ]
  },
  {
   "cell_type": "code",
   "execution_count": 6,
   "metadata": {
    "executionInfo": {
     "elapsed": 167,
     "status": "ok",
     "timestamp": 1640019684821,
     "user": {
      "displayName": "noshah noshah",
      "photoUrl": "https://lh3.googleusercontent.com/a-/AOh14GgkTRhrrqPN9HB2tHKYbRJgstsa7FDBTuxCC8HTBQ=s64",
      "userId": "16058168177383914094"
     },
     "user_tz": 360
    },
    "id": "shf4LEHO2aK9"
   },
   "outputs": [],
   "source": [
    "def therm(config,b,n):\n",
    "  for t in range(1000):\n",
    "    config=metro(config,b,n)\n",
    "\n",
    "  return config"
   ]
  },
  {
   "cell_type": "code",
   "execution_count": 7,
   "metadata": {
    "executionInfo": {
     "elapsed": 4,
     "status": "ok",
     "timestamp": 1640019784413,
     "user": {
      "displayName": "noshah noshah",
      "photoUrl": "https://lh3.googleusercontent.com/a-/AOh14GgkTRhrrqPN9HB2tHKYbRJgstsa7FDBTuxCC8HTBQ=s64",
      "userId": "16058168177383914094"
     },
     "user_tz": 360
    },
    "id": "I4joLmnmqRM7"
   },
   "outputs": [],
   "source": [
    "def magnitization(final_config):\n",
    "  m=np.mean(final_config)\n",
    "  return m"
   ]
  },
  {
   "cell_type": "code",
   "execution_count": 8,
   "metadata": {},
   "outputs": [],
   "source": [
    "def myacf(l,lag=1):\n",
    "    lst=np.array(l)\n",
    "    lstlag=np.roll(lst,-lag)\n",
    "    num=np.mean(lst*lstlag)-(np.mean(lst)*np.mean(lstlag))\n",
    "    return num / np.var(lst)"
   ]
  },
  {
   "cell_type": "code",
   "execution_count": 9,
   "metadata": {},
   "outputs": [],
   "source": [
    "n=10\n",
    "config=np.random.uniform(size=(n,n))\n",
    "blst=np.linspace(-2,-3,20)\n",
    "alst=[]\n",
    "errorlst=[]\n",
    "for b in blst:\n",
    "    s=0\n",
    "    lst=[]\n",
    "    corr=0\n",
    "    th_state=therm(config,b,n)\n",
    "    for runs in range(10000):\n",
    "        th_state=metro(th_state,b,n)\n",
    "        m=magnitization(th_state)\n",
    "        lst.append(np.abs(m))\n",
    "    avgm=np.mean(lst)\n",
    "    corr=myacf(lst,lag=1)\n",
    "    tau=corr/(1-corr)\n",
    "    err=np.sqrt(np.var(lst)*(2*tau+1)/10000)\n",
    "    alst.append(avgm)\n",
    "    errorlst.append(err)"
   ]
  },
  {
   "cell_type": "code",
   "execution_count": 13,
   "metadata": {},
   "outputs": [
    {
     "data": {
      "text/plain": [
       "<matplotlib.legend.Legend at 0x13d34d090>"
      ]
     },
     "execution_count": 13,
     "metadata": {},
     "output_type": "execute_result"
    },
    {
     "data": {
      "image/png": "[encoded data removed]",
      "text/plain": [
       "<Figure size 432x288 with 1 Axes>"
      ]
     },
     "metadata": {
      "image/png": {
       "height": 257,
       "width": 378
      },
      "needs_background": "light"
     },
     "output_type": "display_data"
    }
   ],
   "source": [
    "sns.regplot(x=blst,y=alst,order=3,label='Data points')\n",
    "plt.errorbar(blst, alst, yerr=errorlst, fmt='none', capsize=5, zorder=1, color='r',label='Error')\n",
    "plt.xlabel('$b$')\n",
    "plt.ylabel('Average $m$')\n",
    "plt.ylim(0,1.3)\n",
    "plt.legend()"
   ]
  },
  {
   "cell_type": "markdown",
   "metadata": {},
   "source": [
    "We can now see that the average magnetization is better for larger values of $b$."
   ]
  },
  {
   "cell_type": "markdown",
   "metadata": {},
   "source": [
    "***"
   ]
  }
 ],
 "metadata": {
  "colab": {
   "collapsed_sections": [],
   "name": "Copy of HW6 SSM.ipynb",
   "provenance": [
    {
     "file_id": "1m1W8EZMBxP9qROTmAGvgLNgyrZ1zbiyZ",
     "timestamp": 1640019443415
    }
   ]
  },
  "kernelspec": {
   "display_name": "Python 3",
   "language": "python",
   "name": "python3"
  },
  "language_info": {
   "codemirror_mode": {
    "name": "ipython",
    "version": 3
   },
   "file_extension": ".py",
   "mimetype": "text/x-python",
   "name": "python",
   "nbconvert_exporter": "python",
   "pygments_lexer": "ipython3",
   "version": "3.7.6"
  }
 },
 "nbformat": 4,
 "nbformat_minor": 4
}
